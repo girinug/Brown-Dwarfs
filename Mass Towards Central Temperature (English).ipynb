{
 "cells": [
  {
   "cell_type": "code",
   "execution_count": 26,
   "metadata": {},
   "outputs": [],
   "source": [
    "import numpy as np\n",
    "import pandas as pd\n",
    "import matplotlib.pyplot as plt\n",
    "from sklearn.linear_model import LinearRegression\n",
    "from sklearn.metrics import r2_score\n",
    "from pylab import figure, text, scatter, show"
   ]
  },
  {
   "cell_type": "markdown",
   "metadata": {},
   "source": [
    "### Load The Data"
   ]
  },
  {
   "cell_type": "code",
   "execution_count": 35,
   "metadata": {},
   "outputs": [
    {
     "name": "stdout",
     "output_type": "stream",
     "text": [
      "1.25\n"
     ]
    }
   ],
   "source": [
    "x = 0.6 \n",
    "miu = 2/(1+x)\n",
    "R = [*range(int(2e9),int(30e9),10000)]\n",
    "print(miu)"
   ]
  },
  {
   "cell_type": "code",
   "execution_count": 36,
   "metadata": {
    "scrolled": false
   },
   "outputs": [
    {
     "data": {
      "text/html": [
       "<div>\n",
       "<style scoped>\n",
       "    .dataframe tbody tr th:only-of-type {\n",
       "        vertical-align: middle;\n",
       "    }\n",
       "\n",
       "    .dataframe tbody tr th {\n",
       "        vertical-align: top;\n",
       "    }\n",
       "\n",
       "    .dataframe thead th {\n",
       "        text-align: right;\n",
       "    }\n",
       "</style>\n",
       "<table border=\"1\" class=\"dataframe\">\n",
       "  <thead>\n",
       "    <tr style=\"text-align: right;\">\n",
       "      <th></th>\n",
       "      <th>Radius</th>\n",
       "    </tr>\n",
       "  </thead>\n",
       "  <tbody>\n",
       "    <tr>\n",
       "      <td>0</td>\n",
       "      <td>2000000000</td>\n",
       "    </tr>\n",
       "    <tr>\n",
       "      <td>1</td>\n",
       "      <td>2000010000</td>\n",
       "    </tr>\n",
       "    <tr>\n",
       "      <td>2</td>\n",
       "      <td>2000020000</td>\n",
       "    </tr>\n",
       "    <tr>\n",
       "      <td>3</td>\n",
       "      <td>2000030000</td>\n",
       "    </tr>\n",
       "    <tr>\n",
       "      <td>4</td>\n",
       "      <td>2000040000</td>\n",
       "    </tr>\n",
       "  </tbody>\n",
       "</table>\n",
       "</div>"
      ],
      "text/plain": [
       "       Radius\n",
       "0  2000000000\n",
       "1  2000010000\n",
       "2  2000020000\n",
       "3  2000030000\n",
       "4  2000040000"
      ]
     },
     "execution_count": 36,
     "metadata": {},
     "output_type": "execute_result"
    }
   ],
   "source": [
    "R_pandas1 = pd.Series(R)\n",
    "R_pandas1_ = pd.DataFrame(R_pandas1)\n",
    "Radius = R_pandas1_[0]\n",
    "R_pandas1_['Radius'] = Radius\n",
    "R_pandas1_.drop(columns = 0, inplace=True)\n",
    "R_pandas1_.head()"
   ]
  },
  {
   "cell_type": "markdown",
   "metadata": {},
   "source": [
    "### Plotting Central Temperature vs Mass Through Equation of State"
   ]
  },
  {
   "cell_type": "code",
   "execution_count": 37,
   "metadata": {},
   "outputs": [],
   "source": [
    "def hitung(m):\n",
    "    R_pandas = pd.Series(R)\n",
    "    R_pandas_ = pd.DataFrame(R_pandas)\n",
    "    Radius = R_pandas_[0]\n",
    "    R_pandas_['Radius'] = Radius\n",
    "    R_pandas_.drop(columns = 0, inplace=True)\n",
    "    R_pandas_.head()\n",
    "    \n",
    "    R0 = 2.8e9*((1/(m))**(1/3))*(miu**(-5/3))\n",
    "    \n",
    "    psi = 1.9e-9*((1/m)**(4/3))*((R_pandas_['Radius']/R0)**(2))*(miu**(2/3))\n",
    "    \n",
    "    R_pandas_['psi'] = psi\n",
    "    R_pandas_.head()\n",
    "    \n",
    "    c = (1-R_pandas_['Radius']/R0)\n",
    "    b = ((2-R_pandas_['Radius']/R0)*R_pandas_['psi'])\n",
    "    a = 2*(R_pandas_['psi']**2)\n",
    "    R_pandas_['a'] = a\n",
    "    R_pandas_['b'] = b\n",
    "    R_pandas_['c'] = c\n",
    "    \n",
    "    d = (R_pandas_['b']**2)-(4*R_pandas_['a']*R_pandas_['c'])\n",
    "    R_pandas_['d'] = d\n",
    "    \n",
    "    x1 = (-R_pandas_['b']+np.sqrt(R_pandas_['d']))/(2*R_pandas_['a'])\n",
    "    R_pandas1_[m] = x1"
   ]
  },
  {
   "cell_type": "code",
   "execution_count": 39,
   "metadata": {
    "scrolled": true
   },
   "outputs": [
    {
     "name": "stdout",
     "output_type": "stream",
     "text": [
      "0.05\n",
      "0.060000000000000005\n",
      "0.07\n",
      "0.08000000000000002\n"
     ]
    },
    {
     "data": {
      "image/png": "[encoded data removed]",
      "text/plain": [
       "<Figure size 432x288 with 1 Axes>"
      ]
     },
     "metadata": {
      "needs_background": "light"
     },
     "output_type": "display_data"
    }
   ],
   "source": [
    "for m in np.arange(0.05,9e-2,1e-2):\n",
    "    hitung(m)\n",
    "    print(m)\n",
    "    plt.plot(R_pandas1_['Radius'],R_pandas1_[m])\n",
    "    plt.ylim(0,6e6)\n",
    "    plt.xlabel(\"Radius (cm)\")\n",
    "    plt.ylabel(\"Central Temperature (K)\")\n",
    "    plt.gca().legend((\"0.05\",\"0.06\",'0.07','0.08','0.09','0.1'),title='M☉')\n",
    "    # sumbu y adalah temperatur dalam Kelvin, sumbu x adalah radius, setiap warna menyatakan massa dalam satuan massa matahari"
   ]
  },
  {
   "cell_type": "code",
   "execution_count": 40,
   "metadata": {
    "scrolled": false
   },
   "outputs": [
    {
     "data": {
      "text/html": [
       "<div>\n",
       "<style scoped>\n",
       "    .dataframe tbody tr th:only-of-type {\n",
       "        vertical-align: middle;\n",
       "    }\n",
       "\n",
       "    .dataframe tbody tr th {\n",
       "        vertical-align: top;\n",
       "    }\n",
       "\n",
       "    .dataframe thead th {\n",
       "        text-align: right;\n",
       "    }\n",
       "</style>\n",
       "<table border=\"1\" class=\"dataframe\">\n",
       "  <thead>\n",
       "    <tr style=\"text-align: right;\">\n",
       "      <th></th>\n",
       "      <th>Radius</th>\n",
       "      <th>0.05</th>\n",
       "      <th>0.060000000000000005</th>\n",
       "      <th>0.07</th>\n",
       "      <th>0.08000000000000002</th>\n",
       "    </tr>\n",
       "  </thead>\n",
       "  <tbody>\n",
       "    <tr>\n",
       "      <td>2799995</td>\n",
       "      <td>29999950000</td>\n",
       "      <td>695447.774802</td>\n",
       "      <td>838787.080816</td>\n",
       "      <td>982386.778921</td>\n",
       "      <td>1.126189e+06</td>\n",
       "    </tr>\n",
       "    <tr>\n",
       "      <td>2799996</td>\n",
       "      <td>29999960000</td>\n",
       "      <td>695447.563452</td>\n",
       "      <td>838786.823320</td>\n",
       "      <td>982386.475033</td>\n",
       "      <td>1.126189e+06</td>\n",
       "    </tr>\n",
       "    <tr>\n",
       "      <td>2799997</td>\n",
       "      <td>29999970000</td>\n",
       "      <td>695447.352102</td>\n",
       "      <td>838786.565824</td>\n",
       "      <td>982386.171145</td>\n",
       "      <td>1.126188e+06</td>\n",
       "    </tr>\n",
       "    <tr>\n",
       "      <td>2799998</td>\n",
       "      <td>29999980000</td>\n",
       "      <td>695447.140753</td>\n",
       "      <td>838786.308328</td>\n",
       "      <td>982385.867258</td>\n",
       "      <td>1.126188e+06</td>\n",
       "    </tr>\n",
       "    <tr>\n",
       "      <td>2799999</td>\n",
       "      <td>29999990000</td>\n",
       "      <td>695446.929403</td>\n",
       "      <td>838786.050833</td>\n",
       "      <td>982385.563370</td>\n",
       "      <td>1.126188e+06</td>\n",
       "    </tr>\n",
       "  </tbody>\n",
       "</table>\n",
       "</div>"
      ],
      "text/plain": [
       "              Radius           0.05  0.060000000000000005           0.07  \\\n",
       "2799995  29999950000  695447.774802         838787.080816  982386.778921   \n",
       "2799996  29999960000  695447.563452         838786.823320  982386.475033   \n",
       "2799997  29999970000  695447.352102         838786.565824  982386.171145   \n",
       "2799998  29999980000  695447.140753         838786.308328  982385.867258   \n",
       "2799999  29999990000  695446.929403         838786.050833  982385.563370   \n",
       "\n",
       "         0.08000000000000002  \n",
       "2799995         1.126189e+06  \n",
       "2799996         1.126189e+06  \n",
       "2799997         1.126188e+06  \n",
       "2799998         1.126188e+06  \n",
       "2799999         1.126188e+06  "
      ]
     },
     "execution_count": 40,
     "metadata": {},
     "output_type": "execute_result"
    }
   ],
   "source": [
    "R_pandas1_.tail()"
   ]
  },
  {
   "cell_type": "markdown",
   "metadata": {},
   "source": [
    "### Take Up The Maximum Value From Central Temperature for Every Mass"
   ]
  },
  {
   "cell_type": "code",
   "execution_count": 45,
   "metadata": {},
   "outputs": [],
   "source": [
    "T = list()\n",
    "R = list()\n",
    "U = list()\n",
    "\n",
    "for m in np.arange(0.05,9e-2,1e-2):\n",
    "    x = R_pandas1_[m].max()\n",
    "    y = 2e9+(10000*R_pandas1_[m].idxmax())\n",
    "    T.append(x)\n",
    "    R.append(y)\n",
    "    U.append(m)"
   ]
  },
  {
   "cell_type": "code",
   "execution_count": 46,
   "metadata": {},
   "outputs": [
    {
     "data": {
      "text/html": [
       "<div>\n",
       "<style scoped>\n",
       "    .dataframe tbody tr th:only-of-type {\n",
       "        vertical-align: middle;\n",
       "    }\n",
       "\n",
       "    .dataframe tbody tr th {\n",
       "        vertical-align: top;\n",
       "    }\n",
       "\n",
       "    .dataframe thead th {\n",
       "        text-align: right;\n",
       "    }\n",
       "</style>\n",
       "<table border=\"1\" class=\"dataframe\">\n",
       "  <thead>\n",
       "    <tr style=\"text-align: right;\">\n",
       "      <th></th>\n",
       "      <th>M</th>\n",
       "      <th>T</th>\n",
       "      <th>R</th>\n",
       "    </tr>\n",
       "  </thead>\n",
       "  <tbody>\n",
       "    <tr>\n",
       "      <td>0</td>\n",
       "      <td>0.05</td>\n",
       "      <td>1.508779e+06</td>\n",
       "      <td>9.155880e+09</td>\n",
       "    </tr>\n",
       "    <tr>\n",
       "      <td>1</td>\n",
       "      <td>0.06</td>\n",
       "      <td>1.923980e+06</td>\n",
       "      <td>8.616020e+09</td>\n",
       "    </tr>\n",
       "    <tr>\n",
       "      <td>2</td>\n",
       "      <td>0.07</td>\n",
       "      <td>2.362996e+06</td>\n",
       "      <td>8.184480e+09</td>\n",
       "    </tr>\n",
       "    <tr>\n",
       "      <td>3</td>\n",
       "      <td>0.08</td>\n",
       "      <td>2.823485e+06</td>\n",
       "      <td>7.828170e+09</td>\n",
       "    </tr>\n",
       "  </tbody>\n",
       "</table>\n",
       "</div>"
      ],
      "text/plain": [
       "      M             T             R\n",
       "0  0.05  1.508779e+06  9.155880e+09\n",
       "1  0.06  1.923980e+06  8.616020e+09\n",
       "2  0.07  2.362996e+06  8.184480e+09\n",
       "3  0.08  2.823485e+06  7.828170e+09"
      ]
     },
     "execution_count": 46,
     "metadata": {},
     "output_type": "execute_result"
    }
   ],
   "source": [
    "R_pandas2 = pd.Series(T)\n",
    "R_pandas21 = pd.Series(R)\n",
    "R_pandas22 = pd.Series(U)\n",
    "R_pandas2_ = pd.DataFrame(R_pandas2)\n",
    "R_pandas21_ = pd.DataFrame(R_pandas21)\n",
    "R_pandas22_ = pd.DataFrame(R_pandas22)\n",
    "U = R_pandas22_[0]\n",
    "T = R_pandas2_[0]\n",
    "R = R_pandas21_[0]\n",
    "R_pandas2_['M'] = U\n",
    "R_pandas2_['T'] = T\n",
    "R_pandas2_['R'] = R\n",
    "R_pandas2_.drop(columns = 0, inplace=True)\n",
    "R_pandas2_.head()"
   ]
  },
  {
   "cell_type": "code",
   "execution_count": 47,
   "metadata": {
    "scrolled": false
   },
   "outputs": [
    {
     "data": {
      "text/plain": [
       "Text(0, 0.5, 'Central Temperature Maximum (K)')"
      ]
     },
     "execution_count": 47,
     "metadata": {},
     "output_type": "execute_result"
    },
    {
     "data": {
      "image/png": "[encoded data removed]",
      "text/plain": [
       "<Figure size 432x288 with 1 Axes>"
      ]
     },
     "metadata": {
      "needs_background": "light"
     },
     "output_type": "display_data"
    }
   ],
   "source": [
    "plt.scatter(R_pandas2_['M'],R_pandas2_['T'])\n",
    "plt.xlabel(\"Mass (M☉)\")\n",
    "plt.ylabel(\"Central Temperature Maximum (K)\")\n",
    "# sumbu y adalah temperatur central maksimum, sumbu x adalah massa"
   ]
  },
  {
   "cell_type": "markdown",
   "metadata": {},
   "source": [
    "### Find The Linear Regression Equation "
   ]
  },
  {
   "cell_type": "markdown",
   "metadata": {},
   "source": [
    "Because the distribution value from Central Temperature Maximum vs Mass curve almost linear, the linear regression would fit into the distribution value"
   ]
  },
  {
   "cell_type": "code",
   "execution_count": 48,
   "metadata": {},
   "outputs": [
    {
     "data": {
      "text/html": [
       "<div>\n",
       "<style scoped>\n",
       "    .dataframe tbody tr th:only-of-type {\n",
       "        vertical-align: middle;\n",
       "    }\n",
       "\n",
       "    .dataframe tbody tr th {\n",
       "        vertical-align: top;\n",
       "    }\n",
       "\n",
       "    .dataframe thead th {\n",
       "        text-align: right;\n",
       "    }\n",
       "</style>\n",
       "<table border=\"1\" class=\"dataframe\">\n",
       "  <thead>\n",
       "    <tr style=\"text-align: right;\">\n",
       "      <th></th>\n",
       "      <th>M</th>\n",
       "      <th>T</th>\n",
       "    </tr>\n",
       "  </thead>\n",
       "  <tbody>\n",
       "    <tr>\n",
       "      <td>0</td>\n",
       "      <td>0.05</td>\n",
       "      <td>1.508779e+06</td>\n",
       "    </tr>\n",
       "    <tr>\n",
       "      <td>1</td>\n",
       "      <td>0.06</td>\n",
       "      <td>1.923980e+06</td>\n",
       "    </tr>\n",
       "    <tr>\n",
       "      <td>2</td>\n",
       "      <td>0.07</td>\n",
       "      <td>2.362996e+06</td>\n",
       "    </tr>\n",
       "    <tr>\n",
       "      <td>3</td>\n",
       "      <td>0.08</td>\n",
       "      <td>2.823485e+06</td>\n",
       "    </tr>\n",
       "  </tbody>\n",
       "</table>\n",
       "</div>"
      ],
      "text/plain": [
       "      M             T\n",
       "0  0.05  1.508779e+06\n",
       "1  0.06  1.923980e+06\n",
       "2  0.07  2.362996e+06\n",
       "3  0.08  2.823485e+06"
      ]
     },
     "execution_count": 48,
     "metadata": {},
     "output_type": "execute_result"
    }
   ],
   "source": [
    "R_pandas2_.drop(columns = 'R', inplace=True)\n",
    "R_pandas2_.head()"
   ]
  },
  {
   "cell_type": "code",
   "execution_count": 49,
   "metadata": {},
   "outputs": [
    {
     "data": {
      "text/plain": [
       "(array([[0.05],\n",
       "        [0.06],\n",
       "        [0.07],\n",
       "        [0.08]]), array([[1508778.7401427 ],\n",
       "        [1923979.98865542],\n",
       "        [2362995.72970278],\n",
       "        [2823485.31149844]]))"
      ]
     },
     "execution_count": 49,
     "metadata": {},
     "output_type": "execute_result"
    }
   ],
   "source": [
    "x = R_pandas2_['M'].values[:,np.newaxis]\n",
    "y = R_pandas2_['T'].values[:,np.newaxis]\n",
    "x,y"
   ]
  },
  {
   "cell_type": "code",
   "execution_count": 50,
   "metadata": {},
   "outputs": [
    {
     "name": "stdout",
     "output_type": "stream",
     "text": [
      "Tcmax =  -694228.1033246433 + 43831354.551145844 x\n",
      "R2 score:  0.9994662068907676\n",
      "µe = 1.25\n"
     ]
    },
    {
     "data": {
      "image/png": "[encoded data removed]",
      "text/plain": [
       "<Figure size 432x288 with 1 Axes>"
      ]
     },
     "metadata": {
      "needs_background": "light"
     },
     "output_type": "display_data"
    }
   ],
   "source": [
    "model = LinearRegression()\n",
    "model.fit(x, y)\n",
    "y_predicted = model.predict(x)\n",
    "r2 = r2_score(y, y_predicted)\n",
    "\n",
    "print('Tcmax = ', float(model.intercept_),'+', float(model.coef_),'x')\n",
    "print('R2 score: ', r2)\n",
    "print('µe =',miu)\n",
    " \n",
    "plt.plot(x, y_predicted, color='r')\n",
    "plt.scatter(x, y, s=30)\n",
    "plt.xlabel(\"Mass (M☉)\")\n",
    "plt.ylabel(\"Central Temperature Maximum (K)\")\n",
    "plt.gca().legend(('Regression','Data'))\n",
    "plt.show()"
   ]
  },
  {
   "cell_type": "code",
   "execution_count": 17,
   "metadata": {},
   "outputs": [],
   "source": [
    "R_pandas2_.to_csv('miu 1,25.csv')"
   ]
  },
  {
   "cell_type": "code",
   "execution_count": null,
   "metadata": {},
   "outputs": [],
   "source": []
  }
 ],
 "metadata": {
  "kernelspec": {
   "display_name": "Python 3",
   "language": "python",
   "name": "python3"
  },
  "language_info": {
   "codemirror_mode": {
    "name": "ipython",
    "version": 3
   },
   "file_extension": ".py",
   "mimetype": "text/x-python",
   "name": "python",
   "nbconvert_exporter": "python",
   "pygments_lexer": "ipython3",
   "version": "3.7.4"
  }
 },
 "nbformat": 4,
 "nbformat_minor": 2
}
